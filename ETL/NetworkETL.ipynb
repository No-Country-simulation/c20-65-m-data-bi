{
 "cells": [
  {
   "cell_type": "code",
   "execution_count": 1,
   "metadata": {},
   "outputs": [],
   "source": [
    "#Carga de librerias \n",
    "import pandas as pd\n",
    "import numpy as np\n",
    "import matplotlib.pyplot as plt\n",
    "import seaborn as sns"
   ]
  },
  {
   "cell_type": "code",
   "execution_count": 2,
   "metadata": {},
   "outputs": [],
   "source": [
    "# Intenta con 'latin-1'\n",
    "df = pd.read_csv('dfr_network_socrata_fy2024.csv', encoding='latin-1')"
   ]
  },
  {
   "cell_type": "code",
   "execution_count": 3,
   "metadata": {},
   "outputs": [
    {
     "data": {
      "text/html": [
       "<div>\n",
       "<style scoped>\n",
       "    .dataframe tbody tr th:only-of-type {\n",
       "        vertical-align: middle;\n",
       "    }\n",
       "\n",
       "    .dataframe tbody tr th {\n",
       "        vertical-align: top;\n",
       "    }\n",
       "\n",
       "    .dataframe thead th {\n",
       "        text-align: right;\n",
       "    }\n",
       "</style>\n",
       "<table border=\"1\" class=\"dataframe\">\n",
       "  <thead>\n",
       "    <tr style=\"text-align: right;\">\n",
       "      <th></th>\n",
       "      <th>ESRD_NETWORK</th>\n",
       "      <th>Measure</th>\n",
       "      <th>Measure_Score</th>\n",
       "      <th>year</th>\n",
       "      <th>Measure_id</th>\n",
       "    </tr>\n",
       "  </thead>\n",
       "  <tbody>\n",
       "    <tr>\n",
       "      <th>0</th>\n",
       "      <td>1</td>\n",
       "      <td>NETWORK: COVID - % of Medicare patients initia...</td>\n",
       "      <td>5.11</td>\n",
       "      <td>Quarter 4, 2022</td>\n",
       "      <td>allmcFcovpatPq4_n</td>\n",
       "    </tr>\n",
       "    <tr>\n",
       "      <th>1</th>\n",
       "      <td>1</td>\n",
       "      <td>NETWORK: COVID - % of Medicare patients ever i...</td>\n",
       "      <td>29.32</td>\n",
       "      <td>Quarter 4, 2022</td>\n",
       "      <td>allmcEcovpatPq4_n</td>\n",
       "    </tr>\n",
       "    <tr>\n",
       "      <th>2</th>\n",
       "      <td>1</td>\n",
       "      <td>NETWORK: COVID - % of deaths with patients eve...</td>\n",
       "      <td>43.76</td>\n",
       "      <td>Quarter 4, 2022</td>\n",
       "      <td>allmcEcovDeaPq4_n</td>\n",
       "    </tr>\n",
       "    <tr>\n",
       "      <th>3</th>\n",
       "      <td>1</td>\n",
       "      <td>NETWORK: COVID - % of hospitalizations with pa...</td>\n",
       "      <td>38.20</td>\n",
       "      <td>Quarter 4, 2022</td>\n",
       "      <td>allmcEcovHosPq4_n</td>\n",
       "    </tr>\n",
       "    <tr>\n",
       "      <th>4</th>\n",
       "      <td>1</td>\n",
       "      <td>NETWORK: COVID Nursing Home - % of Medicare pa...</td>\n",
       "      <td>10.67</td>\n",
       "      <td>Quarter 4, 2022</td>\n",
       "      <td>nh_mcFcovpatPq4_n</td>\n",
       "    </tr>\n",
       "    <tr>\n",
       "      <th>5</th>\n",
       "      <td>1</td>\n",
       "      <td>NETWORK: COVID Nursing Home - % of Medicare pa...</td>\n",
       "      <td>49.16</td>\n",
       "      <td>Quarter 4, 2022</td>\n",
       "      <td>nh_mcEcovpatPq4_n</td>\n",
       "    </tr>\n",
       "    <tr>\n",
       "      <th>6</th>\n",
       "      <td>1</td>\n",
       "      <td>NETWORK: COVID Nursing Home - % of deaths with...</td>\n",
       "      <td>52.55</td>\n",
       "      <td>Quarter 4, 2022</td>\n",
       "      <td>nh_mcEcovDeaPq4_n</td>\n",
       "    </tr>\n",
       "    <tr>\n",
       "      <th>7</th>\n",
       "      <td>1</td>\n",
       "      <td>NETWORK: COVID Nursing Home - % of hospitaliza...</td>\n",
       "      <td>48.19</td>\n",
       "      <td>Quarter 4, 2022</td>\n",
       "      <td>nh_mcEcovHosPq4_n</td>\n",
       "    </tr>\n",
       "    <tr>\n",
       "      <th>8</th>\n",
       "      <td>1</td>\n",
       "      <td>N: Prevalent Patients - Age: Average patient a...</td>\n",
       "      <td>64.78</td>\n",
       "      <td>2022</td>\n",
       "      <td>agey4_n</td>\n",
       "    </tr>\n",
       "    <tr>\n",
       "      <th>9</th>\n",
       "      <td>1</td>\n",
       "      <td>N: Prevalent Patients - Age: % Less than 18 ye...</td>\n",
       "      <td>0.20</td>\n",
       "      <td>2022</td>\n",
       "      <td>age1y4_n</td>\n",
       "    </tr>\n",
       "  </tbody>\n",
       "</table>\n",
       "</div>"
      ],
      "text/plain": [
       "   ESRD_NETWORK                                            Measure  \\\n",
       "0             1  NETWORK: COVID - % of Medicare patients initia...   \n",
       "1             1  NETWORK: COVID - % of Medicare patients ever i...   \n",
       "2             1  NETWORK: COVID - % of deaths with patients eve...   \n",
       "3             1  NETWORK: COVID - % of hospitalizations with pa...   \n",
       "4             1  NETWORK: COVID Nursing Home - % of Medicare pa...   \n",
       "5             1  NETWORK: COVID Nursing Home - % of Medicare pa...   \n",
       "6             1  NETWORK: COVID Nursing Home - % of deaths with...   \n",
       "7             1  NETWORK: COVID Nursing Home - % of hospitaliza...   \n",
       "8             1  N: Prevalent Patients - Age: Average patient a...   \n",
       "9             1  N: Prevalent Patients - Age: % Less than 18 ye...   \n",
       "\n",
       "   Measure_Score             year         Measure_id  \n",
       "0           5.11  Quarter 4, 2022  allmcFcovpatPq4_n  \n",
       "1          29.32  Quarter 4, 2022  allmcEcovpatPq4_n  \n",
       "2          43.76  Quarter 4, 2022  allmcEcovDeaPq4_n  \n",
       "3          38.20  Quarter 4, 2022  allmcEcovHosPq4_n  \n",
       "4          10.67  Quarter 4, 2022  nh_mcFcovpatPq4_n  \n",
       "5          49.16  Quarter 4, 2022  nh_mcEcovpatPq4_n  \n",
       "6          52.55  Quarter 4, 2022  nh_mcEcovDeaPq4_n  \n",
       "7          48.19  Quarter 4, 2022  nh_mcEcovHosPq4_n  \n",
       "8          64.78             2022            agey4_n  \n",
       "9           0.20             2022           age1y4_n  "
      ]
     },
     "execution_count": 3,
     "metadata": {},
     "output_type": "execute_result"
    }
   ],
   "source": [
    "df.head(10)"
   ]
  },
  {
   "cell_type": "code",
   "execution_count": 4,
   "metadata": {},
   "outputs": [
    {
     "name": "stdout",
     "output_type": "stream",
     "text": [
      "<class 'pandas.core.frame.DataFrame'>\n",
      "RangeIndex: 9612 entries, 0 to 9611\n",
      "Data columns (total 5 columns):\n",
      " #   Column         Non-Null Count  Dtype  \n",
      "---  ------         --------------  -----  \n",
      " 0   ESRD_NETWORK   9612 non-null   int64  \n",
      " 1   Measure        9612 non-null   object \n",
      " 2   Measure_Score  9612 non-null   float64\n",
      " 3   year           9612 non-null   object \n",
      " 4   Measure_id     9612 non-null   object \n",
      "dtypes: float64(1), int64(1), object(3)\n",
      "memory usage: 375.6+ KB\n"
     ]
    }
   ],
   "source": [
    "df.info()"
   ]
  },
  {
   "cell_type": "code",
   "execution_count": 5,
   "metadata": {},
   "outputs": [
    {
     "data": {
      "text/html": [
       "<div>\n",
       "<style scoped>\n",
       "    .dataframe tbody tr th:only-of-type {\n",
       "        vertical-align: middle;\n",
       "    }\n",
       "\n",
       "    .dataframe tbody tr th {\n",
       "        vertical-align: top;\n",
       "    }\n",
       "\n",
       "    .dataframe thead th {\n",
       "        text-align: right;\n",
       "    }\n",
       "</style>\n",
       "<table border=\"1\" class=\"dataframe\">\n",
       "  <thead>\n",
       "    <tr style=\"text-align: right;\">\n",
       "      <th></th>\n",
       "      <th>ESRD_NETWORK</th>\n",
       "      <th>Measure_Score</th>\n",
       "    </tr>\n",
       "  </thead>\n",
       "  <tbody>\n",
       "    <tr>\n",
       "      <th>count</th>\n",
       "      <td>9612.000000</td>\n",
       "      <td>9612.00000</td>\n",
       "    </tr>\n",
       "    <tr>\n",
       "      <th>mean</th>\n",
       "      <td>9.500000</td>\n",
       "      <td>132.42615</td>\n",
       "    </tr>\n",
       "    <tr>\n",
       "      <th>std</th>\n",
       "      <td>5.188397</td>\n",
       "      <td>2352.29446</td>\n",
       "    </tr>\n",
       "    <tr>\n",
       "      <th>min</th>\n",
       "      <td>1.000000</td>\n",
       "      <td>0.00000</td>\n",
       "    </tr>\n",
       "    <tr>\n",
       "      <th>25%</th>\n",
       "      <td>5.000000</td>\n",
       "      <td>3.64000</td>\n",
       "    </tr>\n",
       "    <tr>\n",
       "      <th>50%</th>\n",
       "      <td>9.500000</td>\n",
       "      <td>15.88500</td>\n",
       "    </tr>\n",
       "    <tr>\n",
       "      <th>75%</th>\n",
       "      <td>14.000000</td>\n",
       "      <td>41.40000</td>\n",
       "    </tr>\n",
       "    <tr>\n",
       "      <th>max</th>\n",
       "      <td>18.000000</td>\n",
       "      <td>96335.50000</td>\n",
       "    </tr>\n",
       "  </tbody>\n",
       "</table>\n",
       "</div>"
      ],
      "text/plain": [
       "       ESRD_NETWORK  Measure_Score\n",
       "count   9612.000000     9612.00000\n",
       "mean       9.500000      132.42615\n",
       "std        5.188397     2352.29446\n",
       "min        1.000000        0.00000\n",
       "25%        5.000000        3.64000\n",
       "50%        9.500000       15.88500\n",
       "75%       14.000000       41.40000\n",
       "max       18.000000    96335.50000"
      ]
     },
     "execution_count": 5,
     "metadata": {},
     "output_type": "execute_result"
    }
   ],
   "source": [
    "df.describe()"
   ]
  },
  {
   "cell_type": "code",
   "execution_count": 6,
   "metadata": {},
   "outputs": [
    {
     "data": {
      "text/plain": [
       "(9612, 5)"
      ]
     },
     "execution_count": 6,
     "metadata": {},
     "output_type": "execute_result"
    }
   ],
   "source": [
    "df.shape\n"
   ]
  },
  {
   "cell_type": "code",
   "execution_count": 7,
   "metadata": {},
   "outputs": [
    {
     "data": {
      "text/plain": [
       "ESRD_NETWORK       int64\n",
       "Measure           object\n",
       "Measure_Score    float64\n",
       "year              object\n",
       "Measure_id        object\n",
       "dtype: object"
      ]
     },
     "execution_count": 7,
     "metadata": {},
     "output_type": "execute_result"
    }
   ],
   "source": [
    "df.dtypes"
   ]
  },
  {
   "cell_type": "code",
   "execution_count": 8,
   "metadata": {},
   "outputs": [
    {
     "name": "stdout",
     "output_type": "stream",
     "text": [
      "Measure 0\n",
      "year 0\n",
      "Measure_id 0\n"
     ]
    }
   ],
   "source": [
    "#Comprobación de valores faltantes en el conjunto de datos #En el conjunto de datos\n",
    "for col in df.columns:\n",
    "    if df[col].dtype == object:\n",
    "         print(col,df[col][df[col] == '?'].count())\n"
   ]
  },
  {
   "cell_type": "code",
   "execution_count": 9,
   "metadata": {},
   "outputs": [
    {
     "data": {
      "text/plain": [
       "Index(['ESRD_NETWORK', 'Measure', 'Measure_Score', 'year', 'Measure_id'], dtype='object')"
      ]
     },
     "execution_count": 9,
     "metadata": {},
     "output_type": "execute_result"
    }
   ],
   "source": [
    "df.columns"
   ]
  },
  {
   "cell_type": "code",
   "execution_count": 26,
   "metadata": {},
   "outputs": [],
   "source": [
    "nuevos_nombres = {\n",
    "       'ESRD_NETWORK':'Red_ESRD',  'Measure':'Medida',\n",
    "       'Measure_Score':'Puntaje_de_Medida', 'year':'Año', 'Measure_id':'ID_de_Medida'}\n",
    "\n",
    "# Renombra las columnas\n",
    "df.rename(columns=nuevos_nombres, inplace=True)"
   ]
  },
  {
   "cell_type": "code",
   "execution_count": 27,
   "metadata": {},
   "outputs": [
    {
     "data": {
      "text/plain": [
       "Index(['Red_ESRD', 'Medida', 'Puntaje_de_Medida', 'Año', 'ID_de_Medida'], dtype='object')"
      ]
     },
     "execution_count": 27,
     "metadata": {},
     "output_type": "execute_result"
    }
   ],
   "source": [
    "df.columns"
   ]
  },
  {
   "cell_type": "code",
   "execution_count": 10,
   "metadata": {},
   "outputs": [
    {
     "data": {
      "text/plain": [
       "Series([], dtype: int64)"
      ]
     },
     "execution_count": 10,
     "metadata": {},
     "output_type": "execute_result"
    }
   ],
   "source": [
    "df.isnull().sum()[df.isnull().sum() > 0]"
   ]
  },
  {
   "cell_type": "code",
   "execution_count": 24,
   "metadata": {},
   "outputs": [
    {
     "data": {
      "text/plain": [
       "Año\n",
       "2022    8478\n",
       "2019    1062\n",
       "2021      72\n",
       "Name: count, dtype: int64"
      ]
     },
     "execution_count": 24,
     "metadata": {},
     "output_type": "execute_result"
    }
   ],
   "source": [
    "df.Año.value_counts()"
   ]
  },
  {
   "cell_type": "code",
   "execution_count": 23,
   "metadata": {},
   "outputs": [],
   "source": [
    "df['Año'] = df['Año'].replace('2019-22', '2019', regex=True)"
   ]
  },
  {
   "cell_type": "code",
   "execution_count": 25,
   "metadata": {},
   "outputs": [],
   "source": [
    "df.to_csv('Network.csv', index=False)"
   ]
  },
  {
   "cell_type": "code",
   "execution_count": null,
   "metadata": {},
   "outputs": [],
   "source": []
  },
  {
   "cell_type": "code",
   "execution_count": null,
   "metadata": {},
   "outputs": [],
   "source": []
  },
  {
   "cell_type": "code",
   "execution_count": null,
   "metadata": {},
   "outputs": [],
   "source": []
  },
  {
   "cell_type": "code",
   "execution_count": null,
   "metadata": {},
   "outputs": [],
   "source": []
  },
  {
   "cell_type": "code",
   "execution_count": null,
   "metadata": {},
   "outputs": [],
   "source": []
  },
  {
   "cell_type": "code",
   "execution_count": null,
   "metadata": {},
   "outputs": [],
   "source": []
  },
  {
   "cell_type": "code",
   "execution_count": null,
   "metadata": {},
   "outputs": [],
   "source": []
  },
  {
   "cell_type": "code",
   "execution_count": null,
   "metadata": {},
   "outputs": [],
   "source": []
  }
 ],
 "metadata": {
  "kernelspec": {
   "display_name": "Python 3",
   "language": "python",
   "name": "python3"
  },
  "language_info": {
   "codemirror_mode": {
    "name": "ipython",
    "version": 3
   },
   "file_extension": ".py",
   "mimetype": "text/x-python",
   "name": "python",
   "nbconvert_exporter": "python",
   "pygments_lexer": "ipython3",
   "version": "3.12.3"
  }
 },
 "nbformat": 4,
 "nbformat_minor": 2
}

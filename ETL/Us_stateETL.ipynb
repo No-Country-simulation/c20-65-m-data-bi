{
 "cells": [
  {
   "cell_type": "code",
   "execution_count": 2,
   "metadata": {},
   "outputs": [],
   "source": [
    "#Carga de librerias \n",
    "import pandas as pd\n",
    "import numpy as np\n",
    "import matplotlib.pyplot as plt\n",
    "import seaborn as sns"
   ]
  },
  {
   "cell_type": "code",
   "execution_count": 3,
   "metadata": {},
   "outputs": [],
   "source": [
    "# Intenta con 'latin-1'\n",
    "df = pd.read_csv('dfr_us_state_socrata_FY2024.csv', encoding='latin-1')"
   ]
  },
  {
   "cell_type": "code",
   "execution_count": 4,
   "metadata": {},
   "outputs": [
    {
     "data": {
      "text/html": [
       "<div>\n",
       "<style scoped>\n",
       "    .dataframe tbody tr th:only-of-type {\n",
       "        vertical-align: middle;\n",
       "    }\n",
       "\n",
       "    .dataframe tbody tr th {\n",
       "        vertical-align: top;\n",
       "    }\n",
       "\n",
       "    .dataframe thead th {\n",
       "        text-align: right;\n",
       "    }\n",
       "</style>\n",
       "<table border=\"1\" class=\"dataframe\">\n",
       "  <thead>\n",
       "    <tr style=\"text-align: right;\">\n",
       "      <th></th>\n",
       "      <th>state</th>\n",
       "      <th>Measure</th>\n",
       "      <th>Measure_Score</th>\n",
       "      <th>year</th>\n",
       "      <th>Measure_ID</th>\n",
       "    </tr>\n",
       "  </thead>\n",
       "  <tbody>\n",
       "    <tr>\n",
       "      <th>0</th>\n",
       "      <td>US</td>\n",
       "      <td>US: COVID - % of Medicare patients initially i...</td>\n",
       "      <td>3.33</td>\n",
       "      <td>Quarter 4, 2022</td>\n",
       "      <td>allmcFcovpatPq4_u</td>\n",
       "    </tr>\n",
       "    <tr>\n",
       "      <th>1</th>\n",
       "      <td>US</td>\n",
       "      <td>US: COVID - % of Medicare patients ever infect...</td>\n",
       "      <td>27.36</td>\n",
       "      <td>Quarter 4, 2022</td>\n",
       "      <td>allmcEcovpatPq4_u</td>\n",
       "    </tr>\n",
       "    <tr>\n",
       "      <th>2</th>\n",
       "      <td>US</td>\n",
       "      <td>US: COVID - % of deaths with patients ever inf...</td>\n",
       "      <td>35.99</td>\n",
       "      <td>Quarter 4, 2022</td>\n",
       "      <td>allmcEcovDeaPq4_u</td>\n",
       "    </tr>\n",
       "    <tr>\n",
       "      <th>3</th>\n",
       "      <td>US</td>\n",
       "      <td>US: COVID - % of hospitalizations with patient...</td>\n",
       "      <td>35.78</td>\n",
       "      <td>Quarter 4, 2022</td>\n",
       "      <td>allmcEcovHosPq4_u</td>\n",
       "    </tr>\n",
       "    <tr>\n",
       "      <th>4</th>\n",
       "      <td>US</td>\n",
       "      <td>US: COVID Nursing Home - % of Medicare patient...</td>\n",
       "      <td>7.79</td>\n",
       "      <td>Quarter 4, 2022</td>\n",
       "      <td>nh_mcFcovpatPq4_u</td>\n",
       "    </tr>\n",
       "    <tr>\n",
       "      <th>5</th>\n",
       "      <td>US</td>\n",
       "      <td>US: COVID Nursing Home - % of Medicare patient...</td>\n",
       "      <td>45.05</td>\n",
       "      <td>Quarter 4, 2022</td>\n",
       "      <td>nh_mcEcovpatPq4_u</td>\n",
       "    </tr>\n",
       "    <tr>\n",
       "      <th>6</th>\n",
       "      <td>US</td>\n",
       "      <td>US: COVID Nursing Home - % of deaths with pati...</td>\n",
       "      <td>45.43</td>\n",
       "      <td>Quarter 4, 2022</td>\n",
       "      <td>nh_mcEcovDeaPq4_u</td>\n",
       "    </tr>\n",
       "    <tr>\n",
       "      <th>7</th>\n",
       "      <td>US</td>\n",
       "      <td>US: COVID Nursing Home - % of hospitalizations...</td>\n",
       "      <td>44.36</td>\n",
       "      <td>Quarter 4, 2022</td>\n",
       "      <td>nh_mcEcovHosPq4_u</td>\n",
       "    </tr>\n",
       "    <tr>\n",
       "      <th>8</th>\n",
       "      <td>US</td>\n",
       "      <td>US: Prevalent Patients - Age: Average patient ...</td>\n",
       "      <td>63.05</td>\n",
       "      <td>2022</td>\n",
       "      <td>agey4_u</td>\n",
       "    </tr>\n",
       "    <tr>\n",
       "      <th>9</th>\n",
       "      <td>US</td>\n",
       "      <td>US: Prevalent Patients - Age: % Less than 18 y...</td>\n",
       "      <td>0.22</td>\n",
       "      <td>2022</td>\n",
       "      <td>age1y4_u</td>\n",
       "    </tr>\n",
       "  </tbody>\n",
       "</table>\n",
       "</div>"
      ],
      "text/plain": [
       "  state                                            Measure  Measure_Score  \\\n",
       "0    US  US: COVID - % of Medicare patients initially i...           3.33   \n",
       "1    US  US: COVID - % of Medicare patients ever infect...          27.36   \n",
       "2    US  US: COVID - % of deaths with patients ever inf...          35.99   \n",
       "3    US  US: COVID - % of hospitalizations with patient...          35.78   \n",
       "4    US  US: COVID Nursing Home - % of Medicare patient...           7.79   \n",
       "5    US  US: COVID Nursing Home - % of Medicare patient...          45.05   \n",
       "6    US  US: COVID Nursing Home - % of deaths with pati...          45.43   \n",
       "7    US  US: COVID Nursing Home - % of hospitalizations...          44.36   \n",
       "8    US  US: Prevalent Patients - Age: Average patient ...          63.05   \n",
       "9    US  US: Prevalent Patients - Age: % Less than 18 y...           0.22   \n",
       "\n",
       "              year         Measure_ID  \n",
       "0  Quarter 4, 2022  allmcFcovpatPq4_u  \n",
       "1  Quarter 4, 2022  allmcEcovpatPq4_u  \n",
       "2  Quarter 4, 2022  allmcEcovDeaPq4_u  \n",
       "3  Quarter 4, 2022  allmcEcovHosPq4_u  \n",
       "4  Quarter 4, 2022  nh_mcFcovpatPq4_u  \n",
       "5  Quarter 4, 2022  nh_mcEcovpatPq4_u  \n",
       "6  Quarter 4, 2022  nh_mcEcovDeaPq4_u  \n",
       "7  Quarter 4, 2022  nh_mcEcovHosPq4_u  \n",
       "8             2022            agey4_u  \n",
       "9             2022           age1y4_u  "
      ]
     },
     "execution_count": 4,
     "metadata": {},
     "output_type": "execute_result"
    }
   ],
   "source": [
    "df.head(10)"
   ]
  },
  {
   "cell_type": "code",
   "execution_count": 5,
   "metadata": {},
   "outputs": [
    {
     "name": "stdout",
     "output_type": "stream",
     "text": [
      "<class 'pandas.core.frame.DataFrame'>\n",
      "RangeIndex: 29337 entries, 0 to 29336\n",
      "Data columns (total 5 columns):\n",
      " #   Column         Non-Null Count  Dtype  \n",
      "---  ------         --------------  -----  \n",
      " 0   state          29337 non-null  object \n",
      " 1   Measure        29337 non-null  object \n",
      " 2   Measure_Score  29337 non-null  float64\n",
      " 3   year           29337 non-null  object \n",
      " 4   Measure_ID     29337 non-null  object \n",
      "dtypes: float64(1), object(4)\n",
      "memory usage: 1.1+ MB\n"
     ]
    }
   ],
   "source": [
    "df.info()"
   ]
  },
  {
   "cell_type": "code",
   "execution_count": 6,
   "metadata": {},
   "outputs": [
    {
     "data": {
      "text/plain": [
       "state             object\n",
       "Measure           object\n",
       "Measure_Score    float64\n",
       "year              object\n",
       "Measure_ID        object\n",
       "dtype: object"
      ]
     },
     "execution_count": 6,
     "metadata": {},
     "output_type": "execute_result"
    }
   ],
   "source": [
    "df.dtypes\n"
   ]
  },
  {
   "cell_type": "code",
   "execution_count": 7,
   "metadata": {},
   "outputs": [
    {
     "name": "stdout",
     "output_type": "stream",
     "text": [
      "state 0\n",
      "Measure 0\n",
      "year 0\n",
      "Measure_ID 0\n"
     ]
    }
   ],
   "source": [
    "#Comprobación de valores faltantes en el conjunto de datos #En el conjunto de datos\n",
    "for col in df.columns:\n",
    "    if df[col].dtype == object:\n",
    "         print(col,df[col][df[col] == '?'].count())"
   ]
  },
  {
   "cell_type": "code",
   "execution_count": 8,
   "metadata": {},
   "outputs": [
    {
     "data": {
      "text/plain": [
       "(29337, 5)"
      ]
     },
     "execution_count": 8,
     "metadata": {},
     "output_type": "execute_result"
    }
   ],
   "source": [
    "df.shape"
   ]
  },
  {
   "cell_type": "code",
   "execution_count": 9,
   "metadata": {},
   "outputs": [
    {
     "data": {
      "text/plain": [
       "Measure_Score\n",
       "0.00      2241\n",
       "100.00     217\n",
       "50.00      120\n",
       "25.00      107\n",
       "33.33       98\n",
       "          ... \n",
       "70.51        1\n",
       "33.71        1\n",
       "30.78        1\n",
       "79.76        1\n",
       "318.91       1\n",
       "Name: count, Length: 7926, dtype: int64"
      ]
     },
     "execution_count": 9,
     "metadata": {},
     "output_type": "execute_result"
    }
   ],
   "source": [
    "df.Measure_Score.value_counts()"
   ]
  },
  {
   "cell_type": "code",
   "execution_count": 10,
   "metadata": {},
   "outputs": [
    {
     "data": {
      "text/plain": [
       "Series([], dtype: int64)"
      ]
     },
     "execution_count": 10,
     "metadata": {},
     "output_type": "execute_result"
    }
   ],
   "source": [
    "df.isnull().sum()[df.isnull().sum() > 0]"
   ]
  },
  {
   "cell_type": "code",
   "execution_count": 20,
   "metadata": {},
   "outputs": [],
   "source": [
    "nuevos_nombres = {'state': 'Estado', 'Measure':'Medida',\n",
    "       'Measure_Score':'Puntaje_de_Medida', 'year':'Año', 'Measure_id':'ID_de_Medida'}\n",
    "\n",
    "# Renombra las columnas\n",
    "df.rename(columns=nuevos_nombres, inplace=True)"
   ]
  },
  {
   "cell_type": "code",
   "execution_count": 21,
   "metadata": {},
   "outputs": [
    {
     "data": {
      "text/plain": [
       "Index(['Estado', 'Medida', 'Puntaje_de_Medida', 'Año', 'ID_de_Medida'], dtype='object')"
      ]
     },
     "execution_count": 21,
     "metadata": {},
     "output_type": "execute_result"
    }
   ],
   "source": [
    "df.columns"
   ]
  },
  {
   "cell_type": "code",
   "execution_count": 17,
   "metadata": {},
   "outputs": [],
   "source": [
    "df['Año'] = df['Año'].replace('2019-21', '2019', regex=True)"
   ]
  },
  {
   "cell_type": "code",
   "execution_count": 18,
   "metadata": {},
   "outputs": [
    {
     "data": {
      "text/plain": [
       "Año\n",
       "2022    25803\n",
       "2019     3305\n",
       "2021      226\n",
       "2020        3\n",
       "Name: count, dtype: int64"
      ]
     },
     "execution_count": 18,
     "metadata": {},
     "output_type": "execute_result"
    }
   ],
   "source": [
    "df.Año.value_counts()"
   ]
  },
  {
   "cell_type": "code",
   "execution_count": 19,
   "metadata": {},
   "outputs": [],
   "source": [
    "df.to_csv('Us_state.csv', index=False)"
   ]
  }
 ],
 "metadata": {
  "kernelspec": {
   "display_name": "Python 3",
   "language": "python",
   "name": "python3"
  },
  "language_info": {
   "codemirror_mode": {
    "name": "ipython",
    "version": 3
   },
   "file_extension": ".py",
   "mimetype": "text/x-python",
   "name": "python",
   "nbconvert_exporter": "python",
   "pygments_lexer": "ipython3",
   "version": "3.12.3"
  }
 },
 "nbformat": 4,
 "nbformat_minor": 2
}
